{
 "cells": [
  {
   "cell_type": "code",
   "execution_count": 1,
   "metadata": {
    "collapsed": false,
    "jupyter": {
     "outputs_hidden": false
    },
    "tags": []
   },
   "outputs": [],
   "source": [
    "from qiskit import *\n",
    "%matplotlib inline\n",
    "import math\n",
    "import numpy as np\n",
    "from IPython.display import display, Markdown, Latex"
   ]
  },
  {
   "cell_type": "code",
   "execution_count": 2,
   "metadata": {
    "tags": []
   },
   "outputs": [],
   "source": [
    "def envio(self, sub_q) :\n",
    "    sub_circ = QuantumCircuit(sub_q, name = 'Canal Cuantico')\n",
    "    \n",
    "    sub_circ.id(0)\n",
    "\n",
    "    sub_inst = sub_circ.to_instruction()\n",
    "    self.append(sub_inst,sub_q)"
   ]
  },
  {
   "cell_type": "code",
   "execution_count": 3,
   "metadata": {
    "tags": []
   },
   "outputs": [],
   "source": [
    "def print_ind(Alicia_bases,Bob_bases,resA,resB):\n",
    "    head=\"|   | Base | Resultado | \\n\"\n",
    "    sep=\"|:-:|:-:|:-:| \\n\"\n",
    "    Ali=\"| Alicia | <span style=\\\"color:red\\\"> **\"+ Alicia_bases+\"**</span> | <span style=\\\"color:blue\\\">**\" +str(resA)+\"**</span>  | \\n\" \n",
    "    Bob=\"| Bob | <span style=\\\"color:red\\\"> **\"+Bob_bases+\"**</span> | <span style=\\\"color:blue\\\">**\"+str(resB)+\"**</span>  | \\n\" \n",
    "\n",
    "    output=head+sep+Ali+Bob\n",
    "    display(Markdown(output))    "
   ]
  },
  {
   "cell_type": "code",
   "execution_count": 4,
   "metadata": {
    "tags": []
   },
   "outputs": [],
   "source": [
    "def print_llarg(Alicia_bases,Bob_bases,resA,resB):\n",
    "    n=len(Alicia_bases)\n",
    "    head=\"|   |\" \n",
    "    sep=\"|:-:|\"\n",
    "    Ali=\"| Bases Alicia |\"\n",
    "    res_Ali=\"| Resultados Alicia |\"\n",
    "    Bob=\"| Bases Bob |\"\n",
    "    res_Bob=\"| Resultados Bob |\"\n",
    "    for i in range(n):\n",
    "        head = head + str(i+1) + \" |\"\n",
    "        sep=sep+\":-:|\"\n",
    "        Ali=Ali+\"<span style=\\\"color:red\\\"> **\"+ Alicia_bases[i]+\"**</span> |\"\n",
    "        res_Ali=res_Ali + \"<span style=\\\"color:blue\\\">**\" +str(resA[i])+\"**</span>  | \" \n",
    "        Bob=Bob+\"<span style=\\\"color:red\\\"> **\"+Bob_bases[i]+\"**</span> |\"\n",
    "        res_Bob=res_Bob+\"<span style=\\\"color:blue\\\">**\"+str(resB[i])+\"**</span> | \" \n",
    "    head=head + \"\\n\"\n",
    "    sep=sep + \"\\n\"\n",
    "    Ali=Ali + \"\\n\"\n",
    "    res_Ali = res_Ali + \"\\n\"\n",
    "    Bob = Bob + \"\\n\"\n",
    "    res_Bob = res_Bob  + \"\\n\"\n",
    "    output=head+sep+Ali+res_Ali+Bob+res_Bob\n",
    "    display(Markdown(output))    "
   ]
  },
  {
   "cell_type": "code",
   "execution_count": 5,
   "metadata": {
    "tags": []
   },
   "outputs": [],
   "source": [
    "def print_clave_secreta(Alicia_bases,Bob_bases,resA,resB):\n",
    "    n=len(Alicia_bases)\n",
    "    head=\"|   |\" \n",
    "    sep=\"|:-:|\"\n",
    "    Ali=\"| Bases Alicia |\"\n",
    "    res_Ali=\"| Resultados Alicia |\"\n",
    "    Bob=\"| Bases Bob |\"\n",
    "    res_Bob=\"| Resultados Bob |\"\n",
    "    C_verd=\"<span style=\\\"color:green\\\"> **\"\n",
    "    C_black=\"<span style=\\\"color:black\\\"> ~~\"\n",
    "    for i in range(n):\n",
    "        head = head + str(i+1) + \" |\"\n",
    "        sep=sep+\":-:|\"\n",
    "        Ali=Ali+\"<span style=\\\"color:red\\\"> **\"+ Alicia_bases[i]+\"**</span> |\"\n",
    "        Bob=Bob+\"<span style=\\\"color:red\\\"> **\"+Bob_bases[i]+\"**</span> |\"\n",
    "        if (Alicia_bases[i] == Bob_bases[i]):\n",
    "            res_Bob=res_Bob+C_verd+str(resB[i])+\"**</span> | \" \n",
    "            res_Ali=res_Ali + C_verd +str(resA[i])+\"**</span>  | \" \n",
    "        else:\n",
    "            res_Bob=res_Bob+C_black+str(resB[i])+\"~~</span> | \" \n",
    "            res_Ali=res_Ali + C_black +str(resA[i])+\"~~</span>  | \" \n",
    "    head=head + \"\\n\"\n",
    "    sep=sep + \"\\n\"\n",
    "    Ali=Ali + \"\\n\"\n",
    "    res_Ali = res_Ali + \"\\n\"\n",
    "    Bob = Bob + \"\\n\"\n",
    "    res_Bob = res_Bob  + \"\\n\"\n",
    "    output=head+sep+Ali+res_Ali+Bob+res_Bob\n",
    "    display(Markdown(output))  "
   ]
  },
  {
   "cell_type": "code",
   "execution_count": 6,
   "metadata": {
    "tags": []
   },
   "outputs": [],
   "source": [
    "def print_singular_A(bases,res):\n",
    "    n=len(bases)\n",
    "    head=\"|   |\" \n",
    "    sep=\"|:-:|\"\n",
    "    Ali=\"| Bases Alicia |\"\n",
    "    res_Ali=\"| Resultados Alicia |\"\n",
    "    for i in range(n):\n",
    "        head = head + str(i+1) + \" |\"\n",
    "        sep=sep+\":-:|\"\n",
    "        Ali=Ali+\"<span style=\\\"color:red\\\"> **\"+ bases[i]+\"**</span> |\"\n",
    "        res_Ali=res_Ali + \"<span style=\\\"color:blue\\\">**\" +str(res[i])+\"**</span>  | \" \n",
    "    head=head + \"\\n\"\n",
    "    sep=sep + \"\\n\"\n",
    "    Ali=Ali + \"\\n\"\n",
    "    res_Ali = res_Ali + \"\\n\"\n",
    "    stil=\"<style> table, th, td {padding: 10px; border: 1px solid black; border-collapse: collapse; } </style>\\n\"\n",
    "    \n",
    "    output=stil+head+sep+Ali+res_Ali\n",
    "    display(Markdown(output))"
   ]
  },
  {
   "cell_type": "code",
   "execution_count": 7,
   "metadata": {
    "tags": []
   },
   "outputs": [],
   "source": [
    "def print_singular_B(bases,res):\n",
    "    n=len(bases)\n",
    "    head=\"|   |\" \n",
    "    sep=\"|:-:|\"\n",
    "    Ali=\"| Bases Bob |\"\n",
    "    res_Ali=\"| Resultados Bob |\"\n",
    "    for i in range(n):\n",
    "        head = head + str(i+1) + \" |\"\n",
    "        sep=sep+\":-:|\"\n",
    "        Ali=Ali+\"<span style=\\\"color:red\\\"> **\"+ bases[i]+\"**</span> |\"\n",
    "        res_Ali=res_Ali + \"<span style=\\\"color:blue\\\">**\" +str(res[i])+\"**</span>  | \" \n",
    "    head=head + \"\\n\"\n",
    "    sep=sep + \"\\n\"\n",
    "    Ali=Ali + \"\\n\"\n",
    "    res_Ali = res_Ali + \"\\n\"\n",
    "    stil=\"<style> table, th, td {padding: 10px; border: 1px solid black; border-collapse: collapse; } </style>\\n\"\n",
    "    \n",
    "    output=stil+head+sep+Ali+res_Ali\n",
    "    display(Markdown(output))"
   ]
  },
  {
   "cell_type": "code",
   "execution_count": 8,
   "metadata": {
    "tags": []
   },
   "outputs": [],
   "source": [
    "def circuit_A(Alicia_bases):\n",
    "    qrA = QuantumRegister(1, 'qubit_A')\n",
    "    qrB = QuantumRegister(1,'qubit_B')\n",
    "    cr = ClassicalRegister(2,'m')\n",
    "\n",
    "    cra = ClassicalRegister(1,'resultado_A')\n",
    "    crb = ClassicalRegister(1,'resultado_B')\n",
    "\n",
    "\n",
    "\n",
    "    circuit = QuantumCircuit(qrA,qrB,cra, crb)\n",
    "\n",
    "    #generem estat entrellaçat\n",
    "\n",
    "    circuit.barrier()\n",
    "    circuit.h(0)\n",
    "    circuit.cx(0,1)\n",
    "\n",
    "    #ALICIA\n",
    "    if (Alicia_bases=='Z'):\n",
    "      circuit.measure(qrA[0],cra)\n",
    "    else:\n",
    "      circuit.h(0)\n",
    "      circuit.measure(qrA[0],cra)\n",
    "      circuit.h(0)\n",
    "\n",
    "    circuit.barrier()\n",
    "    envio(circuit,qrB[0:1])\n",
    "    return circuit"
   ]
  },
  {
   "cell_type": "code",
   "execution_count": 9,
   "metadata": {
    "tags": []
   },
   "outputs": [],
   "source": [
    "def circuit_B(Bob_bases,circuit):\n",
    "    circuit.barrier()\n",
    "    #BOB\n",
    "    if (Bob_bases[0]=='Z'):\n",
    "      circuit.measure(1,1)\n",
    "    else:\n",
    "      circuit.h(1)\n",
    "      circuit.measure(1,1)\n",
    "      circuit.h(1)\n",
    "\n",
    "    circuit.barrier()\n",
    "    return circuit"
   ]
  },
  {
   "cell_type": "code",
   "execution_count": 10,
   "metadata": {
    "tags": []
   },
   "outputs": [],
   "source": [
    "def resultats_ind(circuit):\n",
    "    simulator = Aer.get_backend('qasm_simulator')\n",
    "    result = execute(circuit, backend = simulator, shots= 1).result()\n",
    "    counts = result.get_counts()\n",
    "    key = [k for k, v in counts.items() if v == 1][0]\n",
    "    resA = int(key[0])\n",
    "    resB = int(key[2])\n",
    "    return resA, resB"
   ]
  },
  {
   "cell_type": "code",
   "execution_count": 11,
   "metadata": {
    "tags": []
   },
   "outputs": [],
   "source": [
    "def resultats_llarga(Alicia_bases,Bob_bases):\n",
    "    if len(Alicia_bases)!=len(Bob_bases):\n",
    "        print(\"No tenemos el mismo numero de bases\")\n",
    "    else:\n",
    "        resA=[]\n",
    "        resB=[]\n",
    "        for k in range(len(Alicia_bases)):\n",
    "            qrA = QuantumRegister(1, 'qubit_A')\n",
    "            qrB = QuantumRegister(1,'qubit_B')\n",
    "\n",
    "            cra = ClassicalRegister(1,'resultado_A')\n",
    "            crb = ClassicalRegister(1,'resultado_B')\n",
    "\n",
    "            circuit = QuantumCircuit(qrA,qrB,cra, crb)\n",
    "            #generem estat entrellaçat\n",
    "            circuit.h(0)\n",
    "            circuit.cx(0,1)\n",
    "            #ALICIA\n",
    "            if (Alicia_bases[k]=='Z'):\n",
    "              circuit.measure(qrA[0],cra)\n",
    "            else:\n",
    "              circuit.h(0)\n",
    "              circuit.measure(qrA[0],cra)\n",
    "              circuit.h(0)\n",
    "            #BOB\n",
    "            if (Bob_bases[k]=='Z'):\n",
    "              circuit.measure(qrB[0],crb)\n",
    "            else:\n",
    "              circuit.h(1)\n",
    "              circuit.measure(qrB[0],crb)\n",
    "              circuit.h(1)\n",
    "            simulator = Aer.get_backend('qasm_simulator')\n",
    "            result = execute(circuit, backend = simulator, shots= 1).result()\n",
    "            counts = result.get_counts()\n",
    "            key = [k for k, v in counts.items() if v == 1][0]\n",
    "            resA.append(int(key[0]))\n",
    "            resB.append(int(key[2]))\n",
    "    return resA, resB"
   ]
  },
  {
   "cell_type": "markdown",
   "metadata": {
    "tags": []
   },
   "source": [
    "# Demo Paso a Paso"
   ]
  },
  {
   "cell_type": "markdown",
   "metadata": {},
   "source": [
    "### Seccion inputs y circuitos\n",
    "\n"
   ]
  },
  {
   "cell_type": "code",
   "execution_count": 12,
   "metadata": {
    "collapsed": false,
    "jupyter": {
     "outputs_hidden": false
    },
    "tags": []
   },
   "outputs": [],
   "source": [
    "#Inputs:\n",
    "Alicia_bases=\"Z\""
   ]
  },
  {
   "cell_type": "code",
   "execution_count": 13,
   "metadata": {
    "collapsed": false,
    "jupyter": {
     "outputs_hidden": false
    },
    "tags": []
   },
   "outputs": [
    {
     "data": {
      "image/png": "[encoded data removed]",
      "text/plain": [
       "<Figure size 664.676x264.88 with 1 Axes>"
      ]
     },
     "execution_count": 13,
     "metadata": {},
     "output_type": "execute_result"
    }
   ],
   "source": [
    "circuit=circuit_A(Alicia_bases)\n",
    "circuit.draw(output=\"mpl\")"
   ]
  },
  {
   "cell_type": "code",
   "execution_count": 14,
   "metadata": {
    "collapsed": false,
    "jupyter": {
     "outputs_hidden": false
    },
    "tags": []
   },
   "outputs": [],
   "source": [
    "#Inputs B\n",
    "Bob_bases=\"X\""
   ]
  },
  {
   "cell_type": "code",
   "execution_count": 15,
   "metadata": {
    "tags": []
   },
   "outputs": [
    {
     "data": {
      "image/png": "[encoded data removed]",
      "text/plain": [
       "<Figure size 965.676x264.88 with 1 Axes>"
      ]
     },
     "execution_count": 15,
     "metadata": {},
     "output_type": "execute_result"
    }
   ],
   "source": [
    "circuit = circuit_B(Bob_bases,circuit)\n",
    "circuit.draw(output='mpl')"
   ]
  },
  {
   "cell_type": "markdown",
   "metadata": {},
   "source": [
    "### Sección Resultados\n"
   ]
  },
  {
   "cell_type": "code",
   "execution_count": 16,
   "metadata": {
    "collapsed": false,
    "jupyter": {
     "outputs_hidden": false
    },
    "tags": []
   },
   "outputs": [
    {
     "data": {
      "text/markdown": [
       "|   | Base | Resultado | \n",
       "|:-:|:-:|:-:| \n",
       "| Alicia | <span style=\"color:red\"> **Z**</span> | <span style=\"color:blue\">**0**</span>  | \n",
       "| Bob | <span style=\"color:red\"> **X**</span> | <span style=\"color:blue\">**0**</span>  | \n"
      ],
      "text/plain": [
       "<IPython.core.display.Markdown object>"
      ]
     },
     "metadata": {},
     "output_type": "display_data"
    }
   ],
   "source": [
    "resA, resB = resultats_ind(circuit)\n",
    "print_ind(Alicia_bases,Bob_bases,resA,resB)"
   ]
  },
  {
   "cell_type": "markdown",
   "metadata": {
    "jupyter": {
     "outputs_hidden": false
    }
   },
   "source": [
    "# Demo cadena intermedia"
   ]
  },
  {
   "cell_type": "code",
   "execution_count": 20,
   "metadata": {
    "tags": []
   },
   "outputs": [],
   "source": [
    "Alicia_bases=\"XXZZ\"\n",
    "Bob_bases=\"XXZX\""
   ]
  },
  {
   "cell_type": "code",
   "execution_count": 21,
   "metadata": {
    "collapsed": false,
    "jupyter": {
     "outputs_hidden": false
    },
    "tags": []
   },
   "outputs": [
    {
     "data": {
      "text/markdown": [
       "|   |1 |2 |3 |4 |\n",
       "|:-:|:-:|:-:|:-:|:-:|\n",
       "| Bases Alicia |<span style=\"color:red\"> **X**</span> |<span style=\"color:red\"> **X**</span> |<span style=\"color:red\"> **Z**</span> |<span style=\"color:red\"> **Z**</span> |\n",
       "| Resultados Alicia |<span style=\"color:green\"> **1**</span>  | <span style=\"color:green\"> **0**</span>  | <span style=\"color:green\"> **0**</span>  | <span style=\"color:black\"> ~~1~~</span>  | \n",
       "| Bases Bob |<span style=\"color:red\"> **X**</span> |<span style=\"color:red\"> **X**</span> |<span style=\"color:red\"> **Z**</span> |<span style=\"color:red\"> **X**</span> |\n",
       "| Resultados Bob |<span style=\"color:green\"> **1**</span> | <span style=\"color:green\"> **0**</span> | <span style=\"color:green\"> **0**</span> | <span style=\"color:black\"> ~~0~~</span> | \n"
      ],
      "text/plain": [
       "<IPython.core.display.Markdown object>"
      ]
     },
     "metadata": {},
     "output_type": "display_data"
    }
   ],
   "source": [
    "resA, resB = resultats_llarga(Alicia_bases,Bob_bases)\n",
    "print_clave_secreta(Alicia_bases,Bob_bases,resA,resB)"
   ]
  },
  {
   "cell_type": "markdown",
   "metadata": {
    "tags": []
   },
   "source": [
    "# Demostracion Publico"
   ]
  },
  {
   "cell_type": "markdown",
   "metadata": {
    "tags": []
   },
   "source": [
    "## Seccion Alicia"
   ]
  },
  {
   "cell_type": "code",
   "execution_count": 36,
   "metadata": {
    "tags": []
   },
   "outputs": [],
   "source": [
    "Alicia_bases=\"XXXXZZZZXXXZ\""
   ]
  },
  {
   "cell_type": "code",
   "execution_count": 38,
   "metadata": {
    "tags": []
   },
   "outputs": [],
   "source": [
    "resAL, resBL = resultats_llarga(Alicia_bases,Bob_bases)"
   ]
  },
  {
   "cell_type": "code",
   "execution_count": 39,
   "metadata": {
    "tags": []
   },
   "outputs": [
    {
     "data": {
      "text/markdown": [
       "<style> table, th, td {padding: 10px; border: 1px solid black; border-collapse: collapse; } </style>\n",
       "|   |1 |2 |3 |4 |5 |6 |7 |8 |9 |10 |11 |12 |\n",
       "|:-:|:-:|:-:|:-:|:-:|:-:|:-:|:-:|:-:|:-:|:-:|:-:|:-:|\n",
       "| Bases Alicia |<span style=\"color:red\"> **X**</span> |<span style=\"color:red\"> **X**</span> |<span style=\"color:red\"> **X**</span> |<span style=\"color:red\"> **X**</span> |<span style=\"color:red\"> **Z**</span> |<span style=\"color:red\"> **Z**</span> |<span style=\"color:red\"> **Z**</span> |<span style=\"color:red\"> **Z**</span> |<span style=\"color:red\"> **X**</span> |<span style=\"color:red\"> **X**</span> |<span style=\"color:red\"> **X**</span> |<span style=\"color:red\"> **Z**</span> |\n",
       "| Resultados Alicia |<span style=\"color:blue\">**0**</span>  | <span style=\"color:blue\">**1**</span>  | <span style=\"color:blue\">**1**</span>  | <span style=\"color:blue\">**1**</span>  | <span style=\"color:blue\">**0**</span>  | <span style=\"color:blue\">**1**</span>  | <span style=\"color:blue\">**0**</span>  | <span style=\"color:blue\">**0**</span>  | <span style=\"color:blue\">**1**</span>  | <span style=\"color:blue\">**1**</span>  | <span style=\"color:blue\">**0**</span>  | <span style=\"color:blue\">**0**</span>  | \n"
      ],
      "text/plain": [
       "<IPython.core.display.Markdown object>"
      ]
     },
     "metadata": {},
     "output_type": "display_data"
    }
   ],
   "source": [
    "print_singular_A(Alicia_bases,resAL)"
   ]
  },
  {
   "cell_type": "markdown",
   "metadata": {},
   "source": [
    "![PIPE](quantumchannel.png)"
   ]
  },
  {
   "cell_type": "markdown",
   "metadata": {
    "tags": []
   },
   "source": [
    "## Seccion Bob"
   ]
  },
  {
   "cell_type": "code",
   "execution_count": 37,
   "metadata": {
    "tags": []
   },
   "outputs": [],
   "source": [
    "Bob_bases=\"XZZZZXXZXXXX\""
   ]
  },
  {
   "cell_type": "code",
   "execution_count": 40,
   "metadata": {
    "tags": []
   },
   "outputs": [
    {
     "data": {
      "text/markdown": [
       "<style> table, th, td {padding: 10px; border: 1px solid black; border-collapse: collapse; } </style>\n",
       "|   |1 |2 |3 |4 |5 |6 |7 |8 |9 |10 |11 |12 |\n",
       "|:-:|:-:|:-:|:-:|:-:|:-:|:-:|:-:|:-:|:-:|:-:|:-:|:-:|\n",
       "| Bases Bob |<span style=\"color:red\"> **X**</span> |<span style=\"color:red\"> **Z**</span> |<span style=\"color:red\"> **Z**</span> |<span style=\"color:red\"> **Z**</span> |<span style=\"color:red\"> **Z**</span> |<span style=\"color:red\"> **X**</span> |<span style=\"color:red\"> **X**</span> |<span style=\"color:red\"> **Z**</span> |<span style=\"color:red\"> **X**</span> |<span style=\"color:red\"> **X**</span> |<span style=\"color:red\"> **X**</span> |<span style=\"color:red\"> **X**</span> |\n",
       "| Resultados Bob |<span style=\"color:blue\">**0**</span>  | <span style=\"color:blue\">**0**</span>  | <span style=\"color:blue\">**1**</span>  | <span style=\"color:blue\">**1**</span>  | <span style=\"color:blue\">**0**</span>  | <span style=\"color:blue\">**1**</span>  | <span style=\"color:blue\">**0**</span>  | <span style=\"color:blue\">**0**</span>  | <span style=\"color:blue\">**1**</span>  | <span style=\"color:blue\">**1**</span>  | <span style=\"color:blue\">**0**</span>  | <span style=\"color:blue\">**0**</span>  | \n"
      ],
      "text/plain": [
       "<IPython.core.display.Markdown object>"
      ]
     },
     "metadata": {},
     "output_type": "display_data"
    }
   ],
   "source": [
    "print_singular_B(Bob_bases,resBL)"
   ]
  },
  {
   "cell_type": "markdown",
   "metadata": {},
   "source": [
    "# Comprobando clave secreta"
   ]
  },
  {
   "cell_type": "code",
   "execution_count": 41,
   "metadata": {
    "tags": []
   },
   "outputs": [
    {
     "data": {
      "text/markdown": [
       "|   |1 |2 |3 |4 |5 |6 |7 |8 |9 |10 |11 |12 |\n",
       "|:-:|:-:|:-:|:-:|:-:|:-:|:-:|:-:|:-:|:-:|:-:|:-:|:-:|\n",
       "| Bases Alicia |<span style=\"color:red\"> **X**</span> |<span style=\"color:red\"> **X**</span> |<span style=\"color:red\"> **X**</span> |<span style=\"color:red\"> **X**</span> |<span style=\"color:red\"> **Z**</span> |<span style=\"color:red\"> **Z**</span> |<span style=\"color:red\"> **Z**</span> |<span style=\"color:red\"> **Z**</span> |<span style=\"color:red\"> **X**</span> |<span style=\"color:red\"> **X**</span> |<span style=\"color:red\"> **X**</span> |<span style=\"color:red\"> **Z**</span> |\n",
       "| Resultados Alicia |<span style=\"color:green\"> **0**</span>  | <span style=\"color:black\"> ~~1~~</span>  | <span style=\"color:black\"> ~~1~~</span>  | <span style=\"color:black\"> ~~1~~</span>  | <span style=\"color:green\"> **0**</span>  | <span style=\"color:black\"> ~~1~~</span>  | <span style=\"color:black\"> ~~0~~</span>  | <span style=\"color:green\"> **0**</span>  | <span style=\"color:green\"> **1**</span>  | <span style=\"color:green\"> **1**</span>  | <span style=\"color:green\"> **0**</span>  | <span style=\"color:black\"> ~~0~~</span>  | \n",
       "| Bases Bob |<span style=\"color:red\"> **X**</span> |<span style=\"color:red\"> **Z**</span> |<span style=\"color:red\"> **Z**</span> |<span style=\"color:red\"> **Z**</span> |<span style=\"color:red\"> **Z**</span> |<span style=\"color:red\"> **X**</span> |<span style=\"color:red\"> **X**</span> |<span style=\"color:red\"> **Z**</span> |<span style=\"color:red\"> **X**</span> |<span style=\"color:red\"> **X**</span> |<span style=\"color:red\"> **X**</span> |<span style=\"color:red\"> **X**</span> |\n",
       "| Resultados Bob |<span style=\"color:green\"> **0**</span> | <span style=\"color:black\"> ~~0~~</span> | <span style=\"color:black\"> ~~1~~</span> | <span style=\"color:black\"> ~~1~~</span> | <span style=\"color:green\"> **0**</span> | <span style=\"color:black\"> ~~1~~</span> | <span style=\"color:black\"> ~~0~~</span> | <span style=\"color:green\"> **0**</span> | <span style=\"color:green\"> **1**</span> | <span style=\"color:green\"> **1**</span> | <span style=\"color:green\"> **0**</span> | <span style=\"color:black\"> ~~0~~</span> | \n"
      ],
      "text/plain": [
       "<IPython.core.display.Markdown object>"
      ]
     },
     "metadata": {},
     "output_type": "display_data"
    }
   ],
   "source": [
    "print_clave_secreta(Alicia_bases,Bob_bases,resAL,resBL)"
   ]
  },
  {
   "cell_type": "code",
   "execution_count": 42,
   "metadata": {
    "tags": []
   },
   "outputs": [
    {
     "name": "stdout",
     "output_type": "stream",
     "text": [
      "La clave secreta compartida es: [0, 0, 0, 1, 1, 0]\n"
     ]
    }
   ],
   "source": [
    "clave=[]\n",
    "for k in range(len(Alicia_bases)):\n",
    "    if Alicia_bases[k]==Bob_bases[k]:\n",
    "        clave.append(resAL[k])\n",
    "print(\"La clave secreta compartida es:\",clave)"
   ]
  },
  {
   "cell_type": "code",
   "execution_count": null,
   "metadata": {},
   "outputs": [],
   "source": []
  }
 ],
 "metadata": {
  "kernelspec": {
   "display_name": "Python 3",
   "language": "python",
   "name": "python3"
  },
  "language_info": {
   "codemirror_mode": {
    "name": "ipython",
    "version": 3
   },
   "file_extension": ".py",
   "mimetype": "text/x-python",
   "name": "python",
   "nbconvert_exporter": "python",
   "pygments_lexer": "ipython3",
   "version": "3.10.10"
  }
 },
 "nbformat": 4,
 "nbformat_minor": 4
}
